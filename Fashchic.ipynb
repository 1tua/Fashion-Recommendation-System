{
 "cells": [
  {
   "cell_type": "code",
   "execution_count": 1,
   "metadata": {},
   "outputs": [
    {
     "name": "stderr",
     "output_type": "stream",
     "text": [
      "Using TensorFlow backend.\n"
     ]
    }
   ],
   "source": [
    "import pandas as pd\n",
    "import numpy as np\n",
    "import matplotlib.pyplot as plt\n",
    "%matplotlib inline\n",
    "import tensorflow as tf\n",
    "from keras import Model\n",
    "from keras.applications.resnet50 import ResNet50\n",
    "from keras.preprocessing import image\n",
    "from keras.applications.resnet50 import preprocess_input, decode_predictions\n",
    "from keras.layers import GlobalMaxPooling2D\n",
    "tf.__version__\n",
    "import cv2\n",
    "import cv2 as cv\n",
    "from PIL import Image\n",
    "import pickle\n",
    "from scipy import ndimage\n",
    "from keras.preprocessing.image import ImageDataGenerator, array_to_img, img_to_array, load_img\n",
    "import fashion as fc\n",
    "from ipywidgets import interact_manual, widgets, interact\n",
    "%reload_ext autoreload\n",
    "%autoreload 2"
   ]
  },
  {
   "cell_type": "code",
   "execution_count": 2,
   "metadata": {},
   "outputs": [],
   "source": [
    "import pickle\n",
    "data = pickle.load(open(\"data.pkl\", \"rb\"))"
   ]
  },
  {
   "cell_type": "code",
   "execution_count": 3,
   "metadata": {},
   "outputs": [
    {
     "data": {
      "text/html": [
       "<div>\n",
       "<style scoped>\n",
       "    .dataframe tbody tr th:only-of-type {\n",
       "        vertical-align: middle;\n",
       "    }\n",
       "\n",
       "    .dataframe tbody tr th {\n",
       "        vertical-align: top;\n",
       "    }\n",
       "\n",
       "    .dataframe thead th {\n",
       "        text-align: right;\n",
       "    }\n",
       "</style>\n",
       "<table border=\"1\" class=\"dataframe\">\n",
       "  <thead>\n",
       "    <tr style=\"text-align: right;\">\n",
       "      <th></th>\n",
       "      <th>filename</th>\n",
       "      <th>color</th>\n",
       "      <th>micro_category</th>\n",
       "      <th>macro_category</th>\n",
       "      <th>macro_category(english)</th>\n",
       "    </tr>\n",
       "  </thead>\n",
       "  <tbody>\n",
       "    <tr>\n",
       "      <th>0</th>\n",
       "      <td>35154736FEF_resized.jpg</td>\n",
       "      <td>BRONZE</td>\n",
       "      <td>LEATHER SKIRT</td>\n",
       "      <td>ABBIGLIAMENTO PELLE</td>\n",
       "      <td>leather</td>\n",
       "    </tr>\n",
       "    <tr>\n",
       "      <th>1</th>\n",
       "      <td>35157444XDF_resized.jpg</td>\n",
       "      <td>PLATINUM</td>\n",
       "      <td>LEATHER SKIRT</td>\n",
       "      <td>ABBIGLIAMENTO PELLE</td>\n",
       "      <td>leather</td>\n",
       "    </tr>\n",
       "    <tr>\n",
       "      <th>2</th>\n",
       "      <td>35157749QFF_resized.jpg</td>\n",
       "      <td>HAZELNUT</td>\n",
       "      <td>LEATHER SKIRT</td>\n",
       "      <td>ABBIGLIAMENTO PELLE</td>\n",
       "      <td>leather</td>\n",
       "    </tr>\n",
       "    <tr>\n",
       "      <th>3</th>\n",
       "      <td>35165506NDF_resized.jpg</td>\n",
       "      <td>GOLD</td>\n",
       "      <td>LEATHER SKIRT</td>\n",
       "      <td>ABBIGLIAMENTO PELLE</td>\n",
       "      <td>leather</td>\n",
       "    </tr>\n",
       "    <tr>\n",
       "      <th>4</th>\n",
       "      <td>35167181CRF_resized.jpg</td>\n",
       "      <td>ANTHRACITE</td>\n",
       "      <td>LEATHER SKIRT</td>\n",
       "      <td>ABBIGLIAMENTO PELLE</td>\n",
       "      <td>leather</td>\n",
       "    </tr>\n",
       "  </tbody>\n",
       "</table>\n",
       "</div>"
      ],
      "text/plain": [
       "                  filename       color micro_category       macro_category  \\\n",
       "0  35154736FEF_resized.jpg      BRONZE  LEATHER SKIRT  ABBIGLIAMENTO PELLE   \n",
       "1  35157444XDF_resized.jpg    PLATINUM  LEATHER SKIRT  ABBIGLIAMENTO PELLE   \n",
       "2  35157749QFF_resized.jpg    HAZELNUT  LEATHER SKIRT  ABBIGLIAMENTO PELLE   \n",
       "3  35165506NDF_resized.jpg        GOLD  LEATHER SKIRT  ABBIGLIAMENTO PELLE   \n",
       "4  35167181CRF_resized.jpg  ANTHRACITE  LEATHER SKIRT  ABBIGLIAMENTO PELLE   \n",
       "\n",
       "  macro_category(english)  \n",
       "0                 leather  \n",
       "1                 leather  \n",
       "2                 leather  \n",
       "3                 leather  \n",
       "4                 leather  "
      ]
     },
     "execution_count": 3,
     "metadata": {},
     "output_type": "execute_result"
    }
   ],
   "source": [
    "data.head()"
   ]
  },
  {
   "cell_type": "code",
   "execution_count": 4,
   "metadata": {},
   "outputs": [
    {
     "data": {
      "text/plain": [
       "filename                   45164748NCF_resized.jpg\n",
       "color                                        CAMEL\n",
       "micro_category                  MEDIUM LEATHER BAG\n",
       "macro_category                               BORSE\n",
       "macro_category(english)                       bags\n",
       "Name: 3132, dtype: object"
      ]
     },
     "execution_count": 4,
     "metadata": {},
     "output_type": "execute_result"
    }
   ],
   "source": [
    "data.iloc[3132]"
   ]
  },
  {
   "cell_type": "code",
   "execution_count": 5,
   "metadata": {},
   "outputs": [
    {
     "name": "stderr",
     "output_type": "stream",
     "text": [
      "/Users/flatironschool/anaconda3/lib/python3.7/site-packages/keras/engine/saving.py:341: UserWarning: No training configuration found in save file: the model was *not* compiled. Compile it manually.\n",
      "  warnings.warn('No training configuration found in save file: '\n"
     ]
    }
   ],
   "source": [
    "model = pickle.load(open(\"model.pkl\", \"rb\"))\n"
   ]
  },
  {
   "cell_type": "code",
   "execution_count": 6,
   "metadata": {},
   "outputs": [],
   "source": [
    "data_embs = pickle.load(open(\"data_embs.pkl\", \"rb\"))\n"
   ]
  },
  {
   "cell_type": "code",
   "execution_count": 7,
   "metadata": {},
   "outputs": [],
   "source": [
    "cosine_sim = pickle.load(open(\"cosine.pkl\", \"rb\"))\n"
   ]
  },
  {
   "cell_type": "code",
   "execution_count": 8,
   "metadata": {},
   "outputs": [],
   "source": [
    "def plot_figures(figures, nrows = 1, ncols=1,figsize=(8, 8)):\n",
    "    \"\"\"Plot a dictionary of figures.\n",
    "\n",
    "    Parameters\n",
    "    ----------\n",
    "    figures : <title, figure> dictionary\n",
    "    ncols : number of columns of subplots wanted in the display\n",
    "    nrows : number of rows of subplots wanted in the figure\n",
    "    \"\"\"\n",
    "\n",
    "    fig, axeslist = plt.subplots(ncols=ncols, nrows=nrows,figsize=figsize)\n",
    "    for ind,title in enumerate(figures):\n",
    "        axeslist.ravel()[ind].imshow(cv2.cvtColor(figures[title], cv2.COLOR_BGR2RGB))\n",
    "        axeslist.ravel()[ind].set_title(title)\n",
    "        axeslist.ravel()[ind].set_axis_off()\n",
    "    plt.tight_layout() # optional\n",
    "    \n",
    "def img_path(img):\n",
    "    return Data_Path+img\n",
    "\n",
    "def load_image(img):\n",
    "    return cv2.imread(img_path(img))"
   ]
  },
  {
   "cell_type": "code",
   "execution_count": 9,
   "metadata": {},
   "outputs": [
    {
     "data": {
      "text/plain": [
       "(Int64Index([2999, 2930, 3014, 2997, 2596, 2494], dtype='int64'),\n",
       " [0.89842683, 0.8852705, 0.84515655, 0.81852424, 0.8171154, 0.8120699])"
      ]
     },
     "execution_count": 9,
     "metadata": {},
     "output_type": "execute_result"
    }
   ],
   "source": [
    "indices = pd.Series(range(len(data)), index=data.index)\n",
    "indices\n",
    "\n",
    "# Function that get clothes recommendations based on the cosine similarity score of micro categories\n",
    "def get_recommender(idx, data, top_n = 6):\n",
    "    indices = pd.Series(range(len(data)), index=data.index)\n",
    "    sim_idx    = indices[idx]\n",
    "    sim_scores = list(enumerate(cosine_sim[sim_idx]))\n",
    "    sim_scores = sorted(sim_scores, key=lambda x: x[1], reverse=True)\n",
    "    sim_scores = sim_scores[1:top_n+1]\n",
    "    idx_rec    = [i[0] for i in sim_scores]\n",
    "    idx_sim    = [i[1] for i in sim_scores]\n",
    "    \n",
    "    return indices.iloc[idx_rec].index, idx_sim\n",
    "\n",
    "get_recommender(2993, data, top_n = 6)"
   ]
  },
  {
   "cell_type": "code",
   "execution_count": 10,
   "metadata": {},
   "outputs": [],
   "source": [
    "Data_Path= '/Users/flatironschool/Downloads/part1/'"
   ]
  },
  {
   "cell_type": "code",
   "execution_count": 11,
   "metadata": {},
   "outputs": [],
   "source": [
    "image_path = '/Users/flatironschool/Downloads/part1/35154736FEF_resized.jpg'"
   ]
  },
  {
   "cell_type": "code",
   "execution_count": 12,
   "metadata": {},
   "outputs": [],
   "source": [
    "#fc.rec_top6(3132)"
   ]
  },
  {
   "cell_type": "code",
   "execution_count": 13,
   "metadata": {},
   "outputs": [
    {
     "data": {
      "application/vnd.jupyter.widget-view+json": {
       "model_id": "99be2dd8bc9c47bb962e1ba506aa89b5",
       "version_major": 2,
       "version_minor": 0
      },
      "text/plain": [
       "interactive(children=(IntSlider(value=0, description='Item', max=7342, style=SliderStyle(handle_color='lightbl…"
      ]
     },
     "metadata": {},
     "output_type": "display_data"
    },
    {
     "data": {
      "text/plain": [
       "<function fashion.rec_top6(idx_ref)>"
      ]
     },
     "execution_count": 13,
     "metadata": {},
     "output_type": "execute_result"
    }
   ],
   "source": [
    "s1 = widgets.IntSlider(min=0,\n",
    "                       max=7342,\n",
    "                       step=1,\n",
    "                       value=0,\n",
    "                       description=\"Item\")\n",
    "s1.style.handle_color = \"lightblue\"\n",
    "\n",
    "interact(fc.rec_top6, idx_ref=s1, )"
   ]
  },
  {
   "cell_type": "code",
   "execution_count": null,
   "metadata": {},
   "outputs": [],
   "source": []
  }
 ],
 "metadata": {
  "kernelspec": {
   "display_name": "Python 3",
   "language": "python",
   "name": "python3"
  },
  "language_info": {
   "codemirror_mode": {
    "name": "ipython",
    "version": 3
   },
   "file_extension": ".py",
   "mimetype": "text/x-python",
   "name": "python",
   "nbconvert_exporter": "python",
   "pygments_lexer": "ipython3",
   "version": "3.7.3"
  }
 },
 "nbformat": 4,
 "nbformat_minor": 4
}
